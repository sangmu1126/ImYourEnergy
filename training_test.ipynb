{
 "cells": [
  {
   "cell_type": "code",
   "execution_count": 1,
   "metadata": {},
   "outputs": [
    {
     "ename": "ModuleNotFoundError",
     "evalue": "No module named 'pandas'",
     "output_type": "error",
     "traceback": [
      "\u001b[1;31m---------------------------------------------------------------------------\u001b[0m",
      "\u001b[1;31mModuleNotFoundError\u001b[0m                       Traceback (most recent call last)",
      "Cell \u001b[1;32mIn[1], line 2\u001b[0m\n\u001b[0;32m      1\u001b[0m \u001b[38;5;28;01mimport\u001b[39;00m \u001b[38;5;21;01mjson\u001b[39;00m\n\u001b[1;32m----> 2\u001b[0m \u001b[38;5;28;01mimport\u001b[39;00m \u001b[38;5;21;01mpandas\u001b[39;00m \u001b[38;5;28;01mas\u001b[39;00m \u001b[38;5;21;01mpd\u001b[39;00m\n\u001b[0;32m      3\u001b[0m \u001b[38;5;28;01mimport\u001b[39;00m \u001b[38;5;21;01mnumpy\u001b[39;00m \u001b[38;5;28;01mas\u001b[39;00m \u001b[38;5;21;01mnp\u001b[39;00m\n\u001b[0;32m      4\u001b[0m \u001b[38;5;28;01mfrom\u001b[39;00m \u001b[38;5;21;01msklearn\u001b[39;00m\u001b[38;5;21;01m.\u001b[39;00m\u001b[38;5;21;01mmodel_selection\u001b[39;00m \u001b[38;5;28;01mimport\u001b[39;00m train_test_split\n",
      "\u001b[1;31mModuleNotFoundError\u001b[0m: No module named 'pandas'"
     ]
    }
   ],
   "source": [
    "import json\n",
    "import pandas as pd\n",
    "import numpy as np\n",
    "from sklearn.model_selection import train_test_split\n",
    "from sklearn.preprocessing import StandardScaler\n",
    "import tensorflow as tf\n",
    "from tensorflow.keras.models import Sequential\n",
    "from tensorflow.keras.layers import Dense\n",
    "\n",
    "# 파일 로드 함수\n",
    "def load_data(year):\n",
    "    with open(f'weather_{year}.json', 'r') as weather_file:\n",
    "        weather_data = json.load(weather_file)['data']\n",
    "    with open(f'data_{year}.json', 'r') as power_file:\n",
    "        power_data = json.load(power_file)['data']\n",
    "    return weather_data, power_data\n",
    "\n",
    "# 2015년부터 2023년까지 데이터 로드 및 병합\n",
    "weather_data_all = []\n",
    "power_data_all = []\n",
    "\n",
    "for year in range(2015, 2024):\n",
    "    weather_data, power_data = load_data(year)\n",
    "    weather_data_all.extend(weather_data)\n",
    "    power_data_all.extend(power_data)\n",
    "\n",
    "# 데이터프레임으로 변환\n",
    "weather_df = pd.DataFrame(weather_data_all)\n",
    "power_df = pd.DataFrame(power_data_all)\n",
    "\n",
    "# 공통 키(예: 날짜와 위치)로 데이터 병합\n",
    "# 여기서는 가정된 키로 병합합니다. 실제 키로 변경해야 할 수 있습니다.\n",
    "merged_df = pd.merge(weather_df, power_df, on=['date', 'location'])\n",
    "\n",
    "# 필요한 특성 선택\n",
    "features = ['pa', 'ps', 'avgtamax', 'avgtamin', 'taavg', 'tamax', 'tamin', 'avgtgmin', 'ta', 'tmmax', 'tmmin', 'maxcnt', 'mincnt', 'avghm', 'avgcatot', 'sumssday', 'avgte05', 'daydur']\n",
    "target = 'powerUsage'\n",
    "\n",
    "X = merged_df[features]\n",
    "y = merged_df[target]\n",
    "\n",
    "# 결측값 처리\n",
    "X = X.fillna(X.mean())\n",
    "\n",
    "# 데이터 정규화\n",
    "scaler = StandardScaler()\n",
    "X_scaled = scaler.fit_transform(X)\n",
    "\n",
    "# 학습 데이터와 테스트 데이터로 분리\n",
    "X_train, X_test, y_train, y_test = train_test_split(X_scaled, y, test_size=0.2, random_state=42)\n",
    "\n",
    "# 모델 정의\n",
    "model = Sequential([\n",
    "    Dense(64, activation='relu', input_shape=(X_train.shape[1],)),\n",
    "    Dense(32, activation='relu'),\n",
    "    Dense(1)\n",
    "])\n",
    "\n",
    "# 모델 컴파일\n",
    "model.compile(optimizer='adam', loss='mse', metrics=['mae'])\n",
    "\n",
    "# 모델 학습\n",
    "history = model.fit(X_train, y_train, epochs=50, validation_split=0.2, batch_size=32)\n",
    "\n",
    "# 모델 평가\n",
    "loss, mae = model.evaluate(X_test, y_test)\n",
    "print(f'테스트 데이터에서의 평균 절대 오차(MAE): {mae}')\n",
    "\n",
    "# 모델 저장\n",
    "model.save('power_usage_prediction_model.h5')\n"
   ]
  }
 ],
 "metadata": {
  "kernelspec": {
   "display_name": ".venv",
   "language": "python",
   "name": "python3"
  },
  "language_info": {
   "codemirror_mode": {
    "name": "ipython",
    "version": 3
   },
   "file_extension": ".py",
   "mimetype": "text/x-python",
   "name": "python",
   "nbconvert_exporter": "python",
   "pygments_lexer": "ipython3",
   "version": "3.9.8"
  }
 },
 "nbformat": 4,
 "nbformat_minor": 2
}
